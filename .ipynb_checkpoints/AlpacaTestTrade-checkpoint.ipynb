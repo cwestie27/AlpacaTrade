{
 "cells": [
  {
   "cell_type": "code",
   "execution_count": 6,
   "metadata": {},
   "outputs": [
    {
     "name": "stdout",
     "output_type": "stream",
     "text": [
      "Account({   'account_blocked': False,\n",
      "    'account_number': 'PA2ZMCFECPVU',\n",
      "    'buying_power': '400000',\n",
      "    'cash': '100000',\n",
      "    'created_at': '2020-06-22T13:22:32.876719Z',\n",
      "    'currency': 'USD',\n",
      "    'daytrade_count': 0,\n",
      "    'daytrading_buying_power': '400000',\n",
      "    'equity': '100000',\n",
      "    'id': '85e20a7d-e2df-40e9-85e2-ece48b9d8bf5',\n",
      "    'initial_margin': '0',\n",
      "    'last_equity': '100000',\n",
      "    'last_maintenance_margin': '0',\n",
      "    'long_market_value': '0',\n",
      "    'maintenance_margin': '0',\n",
      "    'multiplier': '4',\n",
      "    'pattern_day_trader': False,\n",
      "    'portfolio_value': '100000',\n",
      "    'regt_buying_power': '200000',\n",
      "    'short_market_value': '0',\n",
      "    'shorting_enabled': True,\n",
      "    'sma': '0',\n",
      "    'status': 'ACTIVE',\n",
      "    'trade_suspended_by_user': False,\n",
      "    'trading_blocked': False,\n",
      "    'transfers_blocked': False})\n"
     ]
    }
   ],
   "source": [
    "import alpaca_trade_api as tradeapi\n",
    "import threading\n",
    "from time import sleep \n",
    "import json\n",
    "import logging\n",
    "\n",
    "#authentication and connection details\n",
    "APCA_API_KEY_ID = 'PKPIODDUG9GGMDMMDBV9'\n",
    "APCA_API_SECRET_KEY = '4Tjm3yyvI8xAP4Shp9jeS5rO6iQ59dPI9jbaIkxo'\n",
    "APCA_API_BASE_URL = 'https://paper-api.alpaca.markets'\n",
    "\n",
    "#instantiate REST API\n",
    "api = tradeapi.REST(APCA_API_KEY_ID, APCA_API_SECRET_KEY, APCA_API_BASE_URL, api_version='v2')\n",
    "\n",
    "#obtain account information\n",
    "account = api.get_account()\n",
    "print(account)"
   ]
  },
  {
   "cell_type": "code",
   "execution_count": 7,
   "metadata": {},
   "outputs": [
    {
     "data": {
      "text/plain": [
       "Order({   'asset_class': 'us_equity',\n",
       "    'asset_id': 'cf31c02f-9bef-46d4-861b-65efc4f41ce6',\n",
       "    'canceled_at': None,\n",
       "    'client_order_id': '001',\n",
       "    'created_at': '2020-06-24T19:54:04.678196Z',\n",
       "    'expired_at': None,\n",
       "    'extended_hours': False,\n",
       "    'failed_at': None,\n",
       "    'filled_at': None,\n",
       "    'filled_avg_price': None,\n",
       "    'filled_qty': '0',\n",
       "    'id': 'b591fe93-6e96-4ce7-8f13-3fb9c6cc8511',\n",
       "    'legs': None,\n",
       "    'limit_price': None,\n",
       "    'order_class': '',\n",
       "    'order_type': 'market',\n",
       "    'qty': '1',\n",
       "    'replaced_at': None,\n",
       "    'replaced_by': None,\n",
       "    'replaces': None,\n",
       "    'side': 'buy',\n",
       "    'status': 'accepted',\n",
       "    'stop_price': None,\n",
       "    'submitted_at': '2020-06-24T19:54:04.65726Z',\n",
       "    'symbol': 'PETS',\n",
       "    'time_in_force': 'gtc',\n",
       "    'type': 'market',\n",
       "    'updated_at': '2020-06-24T19:54:04.678196Z'})"
      ]
     },
     "execution_count": 7,
     "metadata": {},
     "output_type": "execute_result"
    }
   ],
   "source": [
    "api.submit_order(symbol='SPCE', \n",
    "    qty=1, \n",
    "    side='buy', \n",
    "    time_in_force='gtc', \n",
    "    type='market', \n",
    "    #limit_price=400.00, \n",
    "    client_order_id='001')"
   ]
  },
  {
   "cell_type": "code",
   "execution_count": null,
   "metadata": {},
   "outputs": [],
   "source": []
  }
 ],
 "metadata": {
  "kernelspec": {
   "display_name": "tradingenv",
   "language": "python",
   "name": "tradingenv"
  },
  "language_info": {
   "codemirror_mode": {
    "name": "ipython",
    "version": 3
   },
   "file_extension": ".py",
   "mimetype": "text/x-python",
   "name": "python",
   "nbconvert_exporter": "python",
   "pygments_lexer": "ipython3",
   "version": "3.8.3"
  }
 },
 "nbformat": 4,
 "nbformat_minor": 4
}
